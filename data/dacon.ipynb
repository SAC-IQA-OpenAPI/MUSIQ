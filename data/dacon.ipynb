{
 "cells": [
  {
   "cell_type": "code",
   "execution_count": 1,
   "metadata": {},
   "outputs": [
    {
     "name": "stderr",
     "output_type": "stream",
     "text": [
      "/opt/conda/lib/python3.10/site-packages/tqdm/auto.py:22: TqdmWarning: IProgress not found. Please update jupyter and ipywidgets. See https://ipywidgets.readthedocs.io/en/stable/user_install.html\n",
      "  from .autonotebook import tqdm as notebook_tqdm\n"
     ]
    }
   ],
   "source": [
    "import os\n",
    "import torch\n",
    "import numpy as np\n",
    "import cv2\n",
    "import pandas as pd"
   ]
  },
  {
   "cell_type": "code",
   "execution_count": 5,
   "metadata": {},
   "outputs": [
    {
     "data": {
      "text/html": [
       "<div>\n",
       "<style scoped>\n",
       "    .dataframe tbody tr th:only-of-type {\n",
       "        vertical-align: middle;\n",
       "    }\n",
       "\n",
       "    .dataframe tbody tr th {\n",
       "        vertical-align: top;\n",
       "    }\n",
       "\n",
       "    .dataframe thead th {\n",
       "        text-align: right;\n",
       "    }\n",
       "</style>\n",
       "<table border=\"1\" class=\"dataframe\">\n",
       "  <thead>\n",
       "    <tr style=\"text-align: right;\">\n",
       "      <th></th>\n",
       "      <th>img_name</th>\n",
       "      <th>img_path</th>\n",
       "      <th>mos</th>\n",
       "      <th>comments</th>\n",
       "    </tr>\n",
       "  </thead>\n",
       "  <tbody>\n",
       "    <tr>\n",
       "      <th>0</th>\n",
       "      <td>41wy7upxzl</td>\n",
       "      <td>./train/41wy7upxzl.jpg</td>\n",
       "      <td>5.569231</td>\n",
       "      <td>the pink and blue really compliment each other...</td>\n",
       "    </tr>\n",
       "    <tr>\n",
       "      <th>1</th>\n",
       "      <td>ygujjq6xxt</td>\n",
       "      <td>./train/ygujjq6xxt.jpg</td>\n",
       "      <td>6.103175</td>\n",
       "      <td>love rhubarb! great colors!</td>\n",
       "    </tr>\n",
       "    <tr>\n",
       "      <th>2</th>\n",
       "      <td>wk321130q0</td>\n",
       "      <td>./train/wk321130q0.jpg</td>\n",
       "      <td>5.541985</td>\n",
       "      <td>i enjoy the textures and grungy feel to this. ...</td>\n",
       "    </tr>\n",
       "    <tr>\n",
       "      <th>3</th>\n",
       "      <td>w50dp2zjpg</td>\n",
       "      <td>./train/w50dp2zjpg.jpg</td>\n",
       "      <td>6.234848</td>\n",
       "      <td>i like all the different colours in this pic, ...</td>\n",
       "    </tr>\n",
       "    <tr>\n",
       "      <th>4</th>\n",
       "      <td>l7rqfxeuh0</td>\n",
       "      <td>./train/l7rqfxeuh0.jpg</td>\n",
       "      <td>5.190476</td>\n",
       "      <td>i love these critters, just wish he was a litt...</td>\n",
       "    </tr>\n",
       "  </tbody>\n",
       "</table>\n",
       "</div>"
      ],
      "text/plain": [
       "     img_name                img_path       mos  \\\n",
       "0  41wy7upxzl  ./train/41wy7upxzl.jpg  5.569231   \n",
       "1  ygujjq6xxt  ./train/ygujjq6xxt.jpg  6.103175   \n",
       "2  wk321130q0  ./train/wk321130q0.jpg  5.541985   \n",
       "3  w50dp2zjpg  ./train/w50dp2zjpg.jpg  6.234848   \n",
       "4  l7rqfxeuh0  ./train/l7rqfxeuh0.jpg  5.190476   \n",
       "\n",
       "                                            comments  \n",
       "0  the pink and blue really compliment each other...  \n",
       "1                        love rhubarb! great colors!  \n",
       "2  i enjoy the textures and grungy feel to this. ...  \n",
       "3  i like all the different colours in this pic, ...  \n",
       "4  i love these critters, just wish he was a litt...  "
      ]
     },
     "execution_count": 5,
     "metadata": {},
     "output_type": "execute_result"
    }
   ],
   "source": [
    "txt_file_path = '../../data/train.csv'\n",
    "scn_idx_list, d_img_list, score_list = [], [], []\n",
    "        \n",
    "csv_file = pd.read_csv(txt_file_path)\n",
    "img_name_list = csv_file['img_name']\n",
    "mos_list = csv_file['mos']\n",
    "data_dict = {'d_img_list' : img_name_list, 'score_list' : mos_list}\n"
   ]
  },
  {
   "cell_type": "code",
   "execution_count": 6,
   "metadata": {},
   "outputs": [
    {
     "name": "stdout",
     "output_type": "stream",
     "text": [
      "0    41wy7upxzl\n",
      "1    ygujjq6xxt\n",
      "2    wk321130q0\n",
      "3    w50dp2zjpg\n",
      "4    l7rqfxeuh0\n",
      "Name: img_name, dtype: object\n",
      "0    5.569231\n",
      "1    6.103175\n",
      "2    5.541985\n",
      "3    6.234848\n",
      "4    5.190476\n",
      "Name: mos, dtype: float64\n"
     ]
    }
   ],
   "source": [
    "\n"
   ]
  },
  {
   "cell_type": "code",
   "execution_count": null,
   "metadata": {},
   "outputs": [],
   "source": []
  }
 ],
 "metadata": {
  "kernelspec": {
   "display_name": "base",
   "language": "python",
   "name": "python3"
  },
  "language_info": {
   "codemirror_mode": {
    "name": "ipython",
    "version": 3
   },
   "file_extension": ".py",
   "mimetype": "text/x-python",
   "name": "python",
   "nbconvert_exporter": "python",
   "pygments_lexer": "ipython3",
   "version": "3.10.8"
  },
  "orig_nbformat": 4
 },
 "nbformat": 4,
 "nbformat_minor": 2
}
